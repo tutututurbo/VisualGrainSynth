{
 "cells": [
  {
   "cell_type": "code",
   "execution_count": 4,
   "id": "d9ca7e41",
   "metadata": {},
   "outputs": [
    {
     "name": "stdout",
     "output_type": "stream",
     "text": [
      "Frame Time: 41 \n",
      "Frequenza di campionamento: 24.0 FPS\n"
     ]
    }
   ],
   "source": [
    "import cv2\n",
    "import os\n",
    "import time\n",
    "import numpy as np\n",
    "\n",
    "# Nome della cartella in cui salvare i frame\n",
    "output_dir = \"frames\"\n",
    "\n",
    "# Se la cartella non esiste, creala\n",
    "if not os.path.exists(output_dir):\n",
    "    os.makedirs(output_dir)\n",
    "else:\n",
    "    # Elimina tutti i file esistenti nella cartella\n",
    "    for file in os.listdir(output_dir):\n",
    "        file_path = os.path.join(output_dir, file)\n",
    "        try:\n",
    "            if os.path.isfile(file_path):\n",
    "                os.unlink(file_path)  # Rimuove il file\n",
    "        except Exception as e:\n",
    "            print(f\"Errore nell'eliminazione di {file_path}: {e}\")\n",
    "\n",
    "# Carica il video\n",
    "video_capture = cv2.VideoCapture('Video di Test2.mp4')\n",
    "\n",
    "# Ottieni la frequenza di campionamento (FPS)\n",
    "fps = video_capture.get(cv2.CAP_PROP_FPS)\n",
    "frame_time = int(1 / fps * 1000)  # Tempo tra i frame in millisecondi\n",
    "\n",
    "print(f\"Frame Time: {frame_time} \")\n",
    "print(f\"Frequenza di campionamento: {fps} FPS\")\n",
    "\n",
    "frame_count = 0\n",
    "while video_capture.isOpened():\n",
    "    ret, frame = video_capture.read()\n",
    "    if not ret:\n",
    "        break\n",
    "\n",
    "    # Costruisci il percorso per salvare il frame\n",
    "    frame_filename = os.path.join(output_dir, f'frame_{frame_count}.jpg')\n",
    "    \n",
    "    # Salva il frame come immagine\n",
    "    cv2.imwrite(frame_filename, frame)\n",
    "    \n",
    "    frame_count += 1\n",
    "\n",
    "    # Controllo dell'interruzione: premi 'q' per uscire\n",
    "    if cv2.waitKey(frame_time) & 0xFF == ord('q'):\n",
    "        break\n",
    "\n",
    "# Rilascia le risorse video e chiudi tutte le finestre\n",
    "video_capture.release()\n",
    "cv2.destroyAllWindows()\n"
   ]
  },
  {
   "cell_type": "code",
   "execution_count": 5,
   "id": "e43b85c2-5a4f-4d89-a83b-e4a78347c6ce",
   "metadata": {},
   "outputs": [
    {
     "name": "stdout",
     "output_type": "stream",
     "text": [
      " * Serving Flask app '__main__'\n",
      " * Debug mode: on\n"
     ]
    },
    {
     "name": "stderr",
     "output_type": "stream",
     "text": [
      "\u001b[31m\u001b[1mWARNING: This is a development server. Do not use it in a production deployment. Use a production WSGI server instead.\u001b[0m\n",
      " * Running on http://127.0.0.1:5001\n",
      "\u001b[33mPress CTRL+C to quit\u001b[0m\n",
      " * Restarting with stat\n",
      "Traceback (most recent call last):\n",
      "  File \"<frozen runpy>\", line 198, in _run_module_as_main\n",
      "  File \"<frozen runpy>\", line 88, in _run_code\n",
      "  File \"/opt/miniconda3/lib/python3.12/site-packages/ipykernel_launcher.py\", line 18, in <module>\n",
      "    app.launch_new_instance()\n",
      "  File \"/opt/miniconda3/lib/python3.12/site-packages/traitlets/config/application.py\", line 1074, in launch_instance\n",
      "    app.initialize(argv)\n",
      "  File \"/opt/miniconda3/lib/python3.12/site-packages/traitlets/config/application.py\", line 118, in inner\n",
      "    return method(app, *args, **kwargs)\n",
      "           ^^^^^^^^^^^^^^^^^^^^^^^^^^^^\n",
      "  File \"/opt/miniconda3/lib/python3.12/site-packages/ipykernel/kernelapp.py\", line 692, in initialize\n",
      "    self.init_sockets()\n",
      "  File \"/opt/miniconda3/lib/python3.12/site-packages/ipykernel/kernelapp.py\", line 331, in init_sockets\n",
      "    self.shell_port = self._bind_socket(self.shell_socket, self.shell_port)\n",
      "                      ^^^^^^^^^^^^^^^^^^^^^^^^^^^^^^^^^^^^^^^^^^^^^^^^^^^^^\n",
      "  File \"/opt/miniconda3/lib/python3.12/site-packages/ipykernel/kernelapp.py\", line 253, in _bind_socket\n",
      "    return self._try_bind_socket(s, port)\n",
      "           ^^^^^^^^^^^^^^^^^^^^^^^^^^^^^^\n",
      "  File \"/opt/miniconda3/lib/python3.12/site-packages/ipykernel/kernelapp.py\", line 229, in _try_bind_socket\n",
      "    s.bind(\"tcp://%s:%i\" % (self.ip, port))\n",
      "  File \"/opt/miniconda3/lib/python3.12/site-packages/zmq/sugar/socket.py\", line 311, in bind\n",
      "    super().bind(addr)\n",
      "  File \"_zmq.py\", line 917, in zmq.backend.cython._zmq.Socket.bind\n",
      "  File \"_zmq.py\", line 179, in zmq.backend.cython._zmq._check_rc\n",
      "zmq.error.ZMQError: Address already in use (addr='tcp://127.0.0.1:60368')\n"
     ]
    },
    {
     "ename": "SystemExit",
     "evalue": "1",
     "output_type": "error",
     "traceback": [
      "An exception has occurred, use %tb to see the full traceback.\n",
      "\u001b[0;31mSystemExit\u001b[0m\u001b[0;31m:\u001b[0m 1\n"
     ]
    }
   ],
   "source": [
    "from flask import Flask, request, jsonify\n",
    "import cv2\n",
    "import os\n",
    "\n",
    "app = Flask(__name__)\n",
    "\n",
    "@app.route('/upload', methods=['POST'])\n",
    "def upload_video():\n",
    "    video = request.files['file']  # Riceve il video dalla lettera (AJAX)\n",
    "    video_path = os.path.join('uploads', video.filename)\n",
    "    video.save(video_path)  # Salva il video\n",
    "    \n",
    "    # Ora chiama la scatola magica per tagliare il video in fotogrammi\n",
    "    frame_count = extract_frames(video_path)\n",
    "    \n",
    "    return jsonify({\"frames_saved\": frame_count})  # Risponde con il numero di fotogrammi tagliati\n",
    "\n",
    "def extract_frames(video_path):\n",
    "    output_dir = \"frames\"\n",
    "    if not os.path.exists(output_dir):\n",
    "        os.makedirs(output_dir)\n",
    "\n",
    "    # Carica il video e inizia a spezzettare\n",
    "    video_capture = cv2.VideoCapture(video_path)\n",
    "    frame_count = 0\n",
    "\n",
    "    while True:\n",
    "        ret, frame = video_capture.read()\n",
    "        if not ret:\n",
    "            break\n",
    "        frame_filename = os.path.join(output_dir, f'frame_{frame_count}.jpg')\n",
    "        cv2.imwrite(frame_filename, frame)\n",
    "        frame_count += 1\n",
    "\n",
    "    video_capture.release()\n",
    "    return frame_count  # Restituisce il numero di fotogrammi creati\n",
    "\n",
    "if __name__ == '__main__':\n",
    "    app.run(debug=True, port=5001)  # Cambia il numero della porta qui\n",
    "\n"
   ]
  },
  {
   "cell_type": "code",
   "execution_count": null,
   "id": "54dc257e-3d38-41e7-a54e-8dc66680aad4",
   "metadata": {},
   "outputs": [],
   "source": []
  }
 ],
 "metadata": {
  "kernelspec": {
   "display_name": "Python 3 (ipykernel)",
   "language": "python",
   "name": "python3"
  },
  "language_info": {
   "codemirror_mode": {
    "name": "ipython",
    "version": 3
   },
   "file_extension": ".py",
   "mimetype": "text/x-python",
   "name": "python",
   "nbconvert_exporter": "python",
   "pygments_lexer": "ipython3",
   "version": "3.12.4"
  }
 },
 "nbformat": 4,
 "nbformat_minor": 5
}
